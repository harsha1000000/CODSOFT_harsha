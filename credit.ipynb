{
  "nbformat": 4,
  "nbformat_minor": 0,
  "metadata": {
    "colab": {
      "provenance": [],
      "authorship_tag": "ABX9TyOJba7q2XISFYGDeEb4WZti",
      "include_colab_link": true
    },
    "kernelspec": {
      "name": "python3",
      "display_name": "Python 3"
    },
    "language_info": {
      "name": "python"
    }
  },
  "cells": [
    {
      "cell_type": "markdown",
      "metadata": {
        "id": "view-in-github",
        "colab_type": "text"
      },
      "source": [
        "<a href=\"https://colab.research.google.com/github/harsha1000000/CODSOFT_harsha/blob/main/credit.ipynb\" target=\"_parent\"><img src=\"https://colab.research.google.com/assets/colab-badge.svg\" alt=\"Open In Colab\"/></a>"
      ]
    },
    {
      "cell_type": "code",
      "source": [
        "import pandas as pd\n",
        "from sklearn.model_selection import train_test_split\n",
        "from sklearn.preprocessing import StandardScaler\n",
        "from imblearn.over_sampling import SMOTE\n",
        "from sklearn.ensemble import RandomForestClassifier\n",
        "from sklearn.metrics import classification_report, confusion_matrix\n",
        "\n",
        "\n",
        "transaction_data = pd.read_csv('/content/creditcard.csv')\n",
        "\n",
        "\n",
        "transaction_data.dropna(subset=['Class'], inplace=True)\n",
        "\n",
        "X = transaction_data.drop('Class', axis=1)\n",
        "y = transaction_data['Class']\n",
        "\n",
        "\n",
        "smote = SMOTE(random_state=42)\n",
        "X_resampled, y_resampled = smote.fit_resample(X, y)\n",
        "\n",
        "X_train, X_test, y_train, y_test = train_test_split(X_resampled, y_resampled, test_size=0.2, random_state=42)\n",
        "\n",
        "\n",
        "model = RandomForestClassifier(random_state=42)\n",
        "model.fit(X_train, y_train)\n",
        "\n",
        "y_pred = model.predict(X_test)\n",
        "print(\"Classification Report:\")\n",
        "print(classification_report(y_test, y_pred))\n",
        "print(\"Confusion Matrix:\")\n",
        "print(confusion_matrix(y_test, y_pred))\n",
        "\n",
        "fraudulent_transactions = y_pred == 1\n",
        "non_fraudulent_transactions = y_pred == 0\n",
        "print(\"Predicted fraudulent transactions:\", sum(fraudulent_transactions))\n",
        "print(\"Predicted non-fraudulent transactions:\", sum(non_fraudulent_transactions))\n",
        "\n"
      ],
      "metadata": {
        "id": "xfWDpcoF89wZ",
        "colab": {
          "base_uri": "https://localhost:8080/"
        },
        "outputId": "1471ca8d-2343-447c-99db-92c19834b564"
      },
      "execution_count": 3,
      "outputs": [
        {
          "output_type": "stream",
          "name": "stdout",
          "text": [
            "Classification Report:\n",
            "              precision    recall  f1-score   support\n",
            "\n",
            "         0.0       1.00      1.00      1.00     29552\n",
            "         1.0       1.00      1.00      1.00     29788\n",
            "\n",
            "    accuracy                           1.00     59340\n",
            "   macro avg       1.00      1.00      1.00     59340\n",
            "weighted avg       1.00      1.00      1.00     59340\n",
            "\n",
            "Confusion Matrix:\n",
            "[[29543     9]\n",
            " [    0 29788]]\n",
            "Predicted fraudulent transactions: 29797\n",
            "Predicted non-fraudulent transactions: 29543\n"
          ]
        }
      ]
    }
  ]
}